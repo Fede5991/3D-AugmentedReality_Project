{
 "cells": [
  {
   "cell_type": "code",
   "execution_count": null,
   "metadata": {},
   "outputs": [],
   "source": [
    "import numpy as np\n",
    "import matplotlib.pyplot as plt\n",
    "import scipy.io as sio\n",
    "import os\n",
    "from sklearn.metrics import confusion_matrix\n",
    "from skimage.transform import rescale, resize, downscale_local_mean\n",
    "import binvox_rw\n",
    "from mpl_toolkits.mplot3d import Axes3D\n",
    "from matplotlib import cm\n",
    "import plotly\n",
    "import chart_studio.plotly as py\n",
    "import plotly.graph_objs as go\n",
    "from plotly.subplots import make_subplots\n",
    "from tqdm import tqdm\n",
    "import h5py\n",
    "import pandas as pd\n",
    "\n",
    "from extraction_performances import extraction_performances\n",
    "from IAHOS import IAHOS\n",
    "from hyperparams_initialization import hyperparams_initialization\n",
    "import keras\n",
    "from keras import backend as K\n",
    "from keras.models import Sequential,Input,Model\n",
    "from keras.layers import Conv3D,MaxPooling3D,Dense,Flatten,Dropout\n",
    "from keras import initializers,optimizers,backend as k\n",
    "from time import time"
   ]
  },
  {
   "cell_type": "code",
   "execution_count": null,
   "metadata": {},
   "outputs": [],
   "source": [
    "data = pd.read_csv(\"all.csv\") \n",
    "print (data)"
   ]
  },
  {
   "cell_type": "code",
   "execution_count": null,
   "metadata": {},
   "outputs": [],
   "source": [
    "classes = ['airplane','bin','bag','basket','bathtub','bed','bench','bird house','library',\n",
    "          'bottle','bowl','bus','dresser','camera','can','cap','car','smartphone','chair',\n",
    "          'clock','keyboard','dishwashers','display','headphones','faucet','library',\n",
    "          'guitar','helmet','jar','knife','lamp','laptop','loudspeaker','mail box','unknown',\n",
    "          'microwave','motorbike','cup','piano','pillow','pistol','plant','scanner','telecontrol',\n",
    "          'rifle','rocket','skate','sofa','oven','table','smartphone','tower','railway engine',\n",
    "          'ship','washing machine']\n",
    "np.save('classes',classes)"
   ]
  },
  {
   "cell_type": "code",
   "execution_count": null,
   "metadata": {
    "scrolled": false
   },
   "outputs": [],
   "source": [
    "categories = os.listdir('G:\\ShapeNetCore.v2')\n",
    "lengths=[]\n",
    "dataset=[]\n",
    "models_number=56\n",
    "insert = False\n",
    "for i in tqdm(range(len(categories))):\n",
    "    model = os.listdir('G:\\ShapeNetCore.v2/'+categories[i])\n",
    "    l=0\n",
    "    for j in range(len(model)):\n",
    "        #if l<models_number:\n",
    "            try:\n",
    "                with open('G:\\ShapeNetCore.v2/'+categories[i]+'/'+model[j]+'/models/'+'model_normalized.surface.binvox', 'rb') as f:\n",
    "                    solid = binvox_rw.read_as_3d_array(f)\n",
    "                    if insert==True:\n",
    "                        Volume = np.zeros((128,128,128))\n",
    "                        for k in range(len(surface.data[0])):\n",
    "                            x = surface.data[0][k]\n",
    "                            y = surface.data[1][k]\n",
    "                            z = surface.data[2][k]\n",
    "                            Volume[x,y,z]=1\n",
    "                        Volume_resized = resize(Volume, (64,64,64),anti_aliasing=True)\n",
    "                        dataset.append(Volume_resized)\n",
    "                    l+=1\n",
    "            except:\n",
    "                pass\n",
    "    lengths.append(l)\n",
    " "
   ]
  },
  {
   "cell_type": "code",
   "execution_count": null,
   "metadata": {},
   "outputs": [],
   "source": [
    "hf = h5py.File('data64.h5', 'w')\n",
    "hf.create_dataset('dataset_1', data=dataset)\n",
    "hf.close()"
   ]
  },
  {
   "cell_type": "markdown",
   "metadata": {},
   "source": [
    "Plot a model (at random from the dataset)"
   ]
  },
  {
   "cell_type": "code",
   "execution_count": null,
   "metadata": {},
   "outputs": [],
   "source": [
    "x=surface.data[0]\n",
    "y=surface.data[1]\n",
    "z=surface.data[2]\n",
    "fig = go.Figure(data=[go.Scatter3d(x=x, y=y, z=z,mode='markers',\n",
    "                      marker=dict(size=1,color=z,colorscale='hot',opacity=0.5))])\n",
    "fig.update_layout(width=800,height=400,autosize=True)\n",
    "fig.show()"
   ]
  },
  {
   "cell_type": "markdown",
   "metadata": {},
   "source": [
    "Neural Network"
   ]
  },
  {
   "cell_type": "code",
   "execution_count": null,
   "metadata": {},
   "outputs": [],
   "source": [
    "training_samples = 55*56\n",
    "labels = np.zeros((training_samples,55))\n",
    "for i in range(training_samples):\n",
    "    j=int(i/56)\n",
    "    labels[i,j]=1"
   ]
  },
  {
   "cell_type": "code",
   "execution_count": null,
   "metadata": {},
   "outputs": [],
   "source": [
    "#Load dataset from disk\n",
    "hf = h5py.File('data32.h5', 'r')\n",
    "n1 = hf.get('dataset_1')\n",
    "n1 = np.array(n1)\n",
    "hf.close()\n",
    "randomize = np.arange(len(n1))\n",
    "np.random.shuffle(randomize)\n",
    "n1=n1[randomize]\n",
    "labels=labels[randomize]\n",
    "index1 = int(len(n1)*0.8)\n",
    "training_set = n1[0:index1].reshape((-1,32,32,32,1))\n",
    "training_labels=labels[0:index1]\n",
    "validation_set = n1[index1:].reshape((-1,32,32,32,1))\n",
    "validation_labels=labels[index1:]"
   ]
  },
  {
   "cell_type": "code",
   "execution_count": null,
   "metadata": {},
   "outputs": [],
   "source": [
    "attempts=2\n",
    "variables=9\n",
    "iterations=attempts**variables"
   ]
  },
  {
   "cell_type": "code",
   "execution_count": null,
   "metadata": {},
   "outputs": [],
   "source": [
    "def Classifier(input_size,i,hm,optimizer):\n",
    "    x = Input(shape=(input_size,input_size,input_size,1))\n",
    "    x1 = (Conv3D(int(hm[0,i]),kernel_size=(int(hm[1,i]),int(hm[1,i]),int(hm[1,i])),activation='relu'))(x)\n",
    "    x1 = (MaxPooling3D(pool_size=(int(hm[2,i]),int(hm[2,i]),int(hm[2,i])),\n",
    "                       strides=(int(hm[3,i]),int(hm[3,i]),int(hm[3,i]))))(x1)\n",
    "    for j in range(int(hm[4,i])):\n",
    "        x1 = (Conv3D(int(hm[5,i]),kernel_size=(int(hm[6,i]),int(hm[6,i]),int(hm[6,i])),activation='relu'))(x1)\n",
    "        #x1 = (MaxPooling3D(pool_size=(2,2,2)))(x1)\n",
    "    y1 = Flatten()(x1)\n",
    "    y2 = (Dense(int(hm[7,i]),activation='relu'))(y1)\n",
    "    y2 = Dropout(hm[8,i])(y2)\n",
    "    y = (Dense(55,activation='softmax'))(y2)\n",
    "    classifier=Model(inputs=x,outputs=y)\n",
    "    classifier.compile(optimizer=optimizer,loss='binary_crossentropy',metrics=['accuracy'])\n",
    "    return classifier"
   ]
  },
  {
   "cell_type": "code",
   "execution_count": null,
   "metadata": {},
   "outputs": [],
   "source": [
    "limits = [[4,16],[2,4],[2,3],[1,2],[0,2],[4,16],[2,4],[55,200],[0,0.5]]\n",
    "method='grid'\n",
    "rounds=2\n",
    "tgp,tgp2,ogp,ogp2=IAHOS(rounds,method,limits,attempts,variables,iterations,Classifier,\n",
    "                       training_set,training_labels,validation_set,validation_labels)"
   ]
  },
  {
   "cell_type": "code",
   "execution_count": null,
   "metadata": {},
   "outputs": [],
   "source": [
    "fig = make_subplots(rows=2, cols=2,subplot_titles=(\"Mean train. accuracy first round\",\n",
    "                                                   \"Mean valid accuracy first round\",\n",
    "                                                  \"Mean train accuracy last round\",\n",
    "                                                  \"Mean valid accuracy last round\"))\n",
    "y = ['#filter1','kernel1','maxpool1','stride_pool','#layers',\n",
    "     '#filter2','kernel2','fully_dim','dropout']\n",
    "x = np.linspace(0,len(temp_general_perf[0])-1,len(temp_general_perf[0]))\n",
    "Colorscale = [[0, '#FF0000'],[0.5, '#F1C40F'], [1, '#00FF00']]\n",
    "fig.add_trace(go.Heatmap(y=[y[i] for i in range(len(y))],\n",
    "                   x=[0,1],\n",
    "                   z=old_general_perf2, colorscale = Colorscale),row=1,col=1)\n",
    "fig.add_trace(go.Heatmap(y=[y[i] for i in range(len(y))],\n",
    "                   x=[0,1],\n",
    "                   z=old_general_perf,colorscale=Colorscale),row=1,col=2)\n",
    "fig.add_trace(go.Heatmap(y=[y[i] for i in range(len(y))],\n",
    "                   x=x,\n",
    "                   z=temp_general_perf2, colorscale = Colorscale),row=2,col=1)\n",
    "fig.add_trace(go.Heatmap(y=[y[i] for i in range(len(y))],\n",
    "                   x=x,\n",
    "                   z=temp_general_perf,colorscale=Colorscale),row=2,col=2)\n",
    "fig.update_layout(height=600, width=800)\n",
    "\n",
    "fig.show()"
   ]
  },
  {
   "cell_type": "code",
   "execution_count": null,
   "metadata": {},
   "outputs": [],
   "source": [
    "training_accuracy=[]\n",
    "validation_accuracy=[]\n",
    "test_scores=[]\n",
    "optimizers = ['sgd','rmsprop','adagrad','adadelta','adam','adamax','nadam']\n",
    "classifier=Classifier(32,optimizers[0])\n",
    "print (classifier.summary())\n",
    "\n",
    "for optimizer in tqdm(optimizers):\n",
    "    classifier=Classifier(32,optimizer)\n",
    "    history=classifier.fit(training_set,training_labels,validation_data=[validation_set,validation_labels],\n",
    "                           epochs=20,batch_size=10,verbose=0,callbacks=[tensorboard])\n",
    "    training_accuracy.append(history.history['acc'])\n",
    "    validation_accuracy.append(history.history['val_acc'])\n",
    "    j+=1\n",
    "    if j<7:\n",
    "        K.clear_session()\n",
    "    del classifier"
   ]
  },
  {
   "cell_type": "code",
   "execution_count": null,
   "metadata": {},
   "outputs": [],
   "source": [
    "plt.figure(figsize=(12,4))\n",
    "for i in range(len(optimizers)):\n",
    "    plt.plot(training_accuracy[i]) \n",
    "plt.title('Training accuracy')\n",
    "plt.xlabel('Epochs')\n",
    "plt.ylabel('Accuracy')\n",
    "plt.legend(optimizers)\n",
    "plt.show()\n",
    "\n",
    "plt.figure(figsize=(12,4))\n",
    "for i in range(len(optimizers)):\n",
    "    plt.plot(validation_accuracy[i]) \n",
    "plt.title('Validation accuracy')\n",
    "plt.xlabel('Epochs')\n",
    "plt.ylabel('Accuracy')\n",
    "plt.legend(optimizers)\n",
    "plt.show()"
   ]
  },
  {
   "cell_type": "code",
   "execution_count": null,
   "metadata": {},
   "outputs": [],
   "source": []
  }
 ],
 "metadata": {
  "kernelspec": {
   "display_name": "Python 3",
   "language": "python",
   "name": "python3"
  },
  "language_info": {
   "codemirror_mode": {
    "name": "ipython",
    "version": 3
   },
   "file_extension": ".py",
   "mimetype": "text/x-python",
   "name": "python",
   "nbconvert_exporter": "python",
   "pygments_lexer": "ipython3",
   "version": "3.7.3"
  }
 },
 "nbformat": 4,
 "nbformat_minor": 2
}
